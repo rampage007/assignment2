{
  "nbformat": 4,
  "nbformat_minor": 0,
  "metadata": {
    "colab": {
      "name": "assignment2.ipynb",
      "provenance": [],
      "collapsed_sections": []
    },
    "kernelspec": {
      "name": "python3",
      "display_name": "Python 3"
    }
  },
  "cells": [
    {
      "cell_type": "code",
      "metadata": {
        "id": "Wqbvc4cPO9Bo",
        "colab_type": "code",
        "colab": {
          "base_uri": "https://localhost:8080/",
          "height": 34
        },
        "outputId": "d21590c0-10a1-4aba-e84f-50473ca983a4"
      },
      "source": [
        "\"\"\"Write a Python Program to implement your own myreduce() function which works exactly like\n",
        "Python's built-in function reduce()\"\"\"\n",
        "def myreduce(function_name,iterable_object):\n",
        "  a = iterable_object[0]\n",
        "  for i in iterable_object[1:len(iterable_object)]:\n",
        "    a = function_name(a,i)\n",
        "  return a\n",
        "\n",
        "def sum_(x,y):\n",
        "  return x+y\n",
        "\n",
        "k = myreduce(sum_,[1,2,3,4,5])\n",
        "print(k)"
      ],
      "execution_count": 13,
      "outputs": [
        {
          "output_type": "stream",
          "text": [
            "15\n"
          ],
          "name": "stdout"
        }
      ]
    },
    {
      "cell_type": "code",
      "metadata": {
        "id": "cChJ_jtnOTUp",
        "colab_type": "code",
        "colab": {
          "base_uri": "https://localhost:8080/",
          "height": 34
        },
        "outputId": "2852bd0b-6f8c-404a-e057-4f42df5a14e3"
      },
      "source": [
        "\"\"\"Write a Python Program to implement your own myfilter() function which works exactly like\n",
        "Python's built-in function filter()\"\"\"\n",
        "def myfilter(function_name,iterable_object):\n",
        "  l = []\n",
        "  for i in iterable_object:\n",
        "    result= function_name(i)\n",
        "    if result == True:\n",
        "      l.append(i)\n",
        "  return l\n",
        "  \n",
        "def even_number(x):\n",
        "  if x%2 == 0:\n",
        "    return True\n",
        "  else:\n",
        "    return False\n",
        "\n",
        "k = myfilter(even_number,[1,2,44,5,9,10])\n",
        "print(k)"
      ],
      "execution_count": 14,
      "outputs": [
        {
          "output_type": "stream",
          "text": [
            "[2, 44, 10]\n"
          ],
          "name": "stdout"
        }
      ]
    },
    {
      "cell_type": "code",
      "metadata": {
        "id": "f-qmvlAuE1g1",
        "colab_type": "code",
        "outputId": "092ecbe3-b40c-4453-c5ee-b02952f3a048",
        "colab": {
          "base_uri": "https://localhost:8080/",
          "height": 34
        }
      },
      "source": [
        "\"\"\"Implement List comprehensions to produce the following lists.\n",
        "Write List comprehensions to produce the following Lists ['A', 'C', 'A', 'D', 'G', 'I', ’L’, ‘ D’]\"\"\"\n",
        "[i for i in \"ACADGILD\"]"
      ],
      "execution_count": 15,
      "outputs": [
        {
          "output_type": "execute_result",
          "data": {
            "text/plain": [
              "['A', 'C', 'A', 'D', 'G', 'I', 'L', 'D']"
            ]
          },
          "metadata": {
            "tags": []
          },
          "execution_count": 15
        }
      ]
    },
    {
      "cell_type": "code",
      "metadata": {
        "id": "5SHfNTAdIhDq",
        "colab_type": "code",
        "outputId": "e4b8d4d8-0267-4bfc-b305-3c0d2d1176c6",
        "colab": {
          "base_uri": "https://localhost:8080/",
          "height": 34
        }
      },
      "source": [
        "\"\"\"['x', 'xx', 'xxx', 'xxxx', 'y', 'yy', 'yyy', 'yyyy', 'z', 'zz', 'zzz', 'zzzz']\"\"\"\n",
        "[i*k for k in \"xyz\" for i in range(1,5) ]"
      ],
      "execution_count": 16,
      "outputs": [
        {
          "output_type": "execute_result",
          "data": {
            "text/plain": [
              "['x', 'xx', 'xxx', 'xxxx', 'y', 'yy', 'yyy', 'yyyy', 'z', 'zz', 'zzz', 'zzzz']"
            ]
          },
          "metadata": {
            "tags": []
          },
          "execution_count": 16
        }
      ]
    },
    {
      "cell_type": "code",
      "metadata": {
        "id": "vrqlBTMmMoQo",
        "colab_type": "code",
        "outputId": "5be49e27-dd70-49c4-a818-9d5d5202b568",
        "colab": {
          "base_uri": "https://localhost:8080/",
          "height": 34
        }
      },
      "source": [
        "\"\"\"[[2], [3], [4], [3], [4], [5], [4], [5], [6]]\"\"\"\n",
        "[[j] for i in range(2,5) for j in range(i,i+3)]"
      ],
      "execution_count": 17,
      "outputs": [
        {
          "output_type": "execute_result",
          "data": {
            "text/plain": [
              "[[2], [3], [4], [3], [4], [5], [4], [5], [6]]"
            ]
          },
          "metadata": {
            "tags": []
          },
          "execution_count": 17
        }
      ]
    },
    {
      "cell_type": "code",
      "metadata": {
        "id": "gtN0VLLiNVzy",
        "colab_type": "code",
        "outputId": "430261b1-466b-4415-c4a2-1596d5582560",
        "colab": {
          "base_uri": "https://localhost:8080/",
          "height": 34
        }
      },
      "source": [
        "\"\"\"[[2, 3, 4, 5], [3, 4, 5, 6], [4, 5, 6, 7], [5, 6, 7, 8]]\"\"\"\n",
        "[[i,i+1,i+2,i+3] for i in range(2,6)]"
      ],
      "execution_count": 18,
      "outputs": [
        {
          "output_type": "execute_result",
          "data": {
            "text/plain": [
              "[[2, 3, 4, 5], [3, 4, 5, 6], [4, 5, 6, 7], [5, 6, 7, 8]]"
            ]
          },
          "metadata": {
            "tags": []
          },
          "execution_count": 18
        }
      ]
    },
    {
      "cell_type": "code",
      "metadata": {
        "id": "uk3kWKg7Qdil",
        "colab_type": "code",
        "outputId": "46dbe5a0-a12b-4c5d-8e15-734682c5ac48",
        "colab": {
          "base_uri": "https://localhost:8080/",
          "height": 34
        }
      },
      "source": [
        "\"\"\"[(1, 1), (2, 1), (3, 1), (1, 2), (2, 2), (3, 2), (1, 3), (2, 3), (3, 3)]\"\"\"\n",
        "[(j,i) for i in range(1,4) for j in range(1,4)]"
      ],
      "execution_count": 19,
      "outputs": [
        {
          "output_type": "execute_result",
          "data": {
            "text/plain": [
              "[(1, 1), (2, 1), (3, 1), (1, 2), (2, 2), (3, 2), (1, 3), (2, 3), (3, 3)]"
            ]
          },
          "metadata": {
            "tags": []
          },
          "execution_count": 19
        }
      ]
    },
    {
      "cell_type": "code",
      "metadata": {
        "id": "LvUrl_UwM4jM",
        "colab_type": "code",
        "colab": {
          "base_uri": "https://localhost:8080/",
          "height": 34
        },
        "outputId": "20ae7fa0-f0dd-4024-cddf-2b1a24307613"
      },
      "source": [
        "#Implement a function longestWord() that takes a list of words and returns the longest one.\n",
        "def longestword(l):\n",
        "  k = 0\n",
        "  for i in l:\n",
        "    if(len(i)>k):\n",
        "      k = len(i)\n",
        "      result = i\n",
        "  return result\n",
        "\n",
        "print(longestword([\"Teja\",\"Koduri\",\"fajfoie\"]))"
      ],
      "execution_count": 20,
      "outputs": [
        {
          "output_type": "stream",
          "text": [
            "fajfoie\n"
          ],
          "name": "stdout"
        }
      ]
    },
    {
      "cell_type": "code",
      "metadata": {
        "id": "K9bgA2kZ-eQh",
        "colab_type": "code",
        "colab": {
          "base_uri": "https://localhost:8080/",
          "height": 51
        },
        "outputId": "bb1b20a6-7478-4490-ddaf-6efa71366212"
      },
      "source": [
        "\"\"\"Write a Python Program(with class concepts) to find the area of the triangle using the below\n",
        "formula.\n",
        "area = (s*(s-a)*(s-b)*(s-c)) ** 0.5\n",
        "Function to take the length of the sides of triangle from user should be defined in the parent\n",
        "class and function to calculate the area should be defined in subclass.\"\"\"\n",
        "\n",
        "class Parent:\n",
        "  def __init__(self,a,b,c):\n",
        "    self.a = a\n",
        "    self.b = b\n",
        "    self.c = c\n",
        "class SubClass(Parent):\n",
        "  def __init__(self,*args):\n",
        "    super(SubClass,self).__init__(*args)\n",
        "  def area(self):\n",
        "    s= (self.a + self.b+self.c)/2\n",
        "    print(s)\n",
        "    return (s*(s-self.a)*(s-self.b)*(s-self.c))**0.5\n",
        "\n",
        "\n",
        "AREA = SubClass(3,4,5)\n",
        "print(AREA.area())"
      ],
      "execution_count": 21,
      "outputs": [
        {
          "output_type": "stream",
          "text": [
            "6.0\n",
            "6.0\n"
          ],
          "name": "stdout"
        }
      ]
    },
    {
      "cell_type": "code",
      "metadata": {
        "id": "Ay7GNoWTQXdj",
        "colab_type": "code",
        "colab": {
          "base_uri": "https://localhost:8080/",
          "height": 34
        },
        "outputId": "83ce47b7-ad1d-4ac2-ac35-99ba531daad4"
      },
      "source": [
        "\"\"\"Write a function filter_long_words() that takes a list of words and an integer n and returns the list\n",
        "of words that are longer than n.\"\"\"\n",
        "def filter_long_words(l,n):\n",
        "  m=[]\n",
        "  for i in l:\n",
        "    if len(i)>n:\n",
        "      m.append(i)\n",
        "  return m\n",
        "\n",
        "k = filter_long_words([\"Teja\",\"Koduri\",\"ajiejeoihfh\",\"afe\"],3)\n",
        "print(k)"
      ],
      "execution_count": 22,
      "outputs": [
        {
          "output_type": "stream",
          "text": [
            "['Teja', 'Koduri', 'ajiejeoihfh']\n"
          ],
          "name": "stdout"
        }
      ]
    },
    {
      "cell_type": "code",
      "metadata": {
        "id": "nClq811pS5xc",
        "colab_type": "code",
        "colab": {
          "base_uri": "https://localhost:8080/",
          "height": 34
        },
        "outputId": "837db6b2-8e53-4b2c-cffc-aa91414bb8a4"
      },
      "source": [
        "\"\"\"Write a Python program using function concept that maps list of words into a list of integers\n",
        "representing the lengths of the corresponding words​ .\"\"\"\n",
        "def map_user_defined(func_name, iterable):\n",
        "  l = []\n",
        "  for i in iterable:\n",
        "    l.append(func_name(i))\n",
        "  return l\n",
        "\n",
        "def myfunc(a):\n",
        "  return len(a)\n",
        "\n",
        "k = map_user_defined(myfunc,['ab','cde','erty'])\n",
        "print(k)"
      ],
      "execution_count": 23,
      "outputs": [
        {
          "output_type": "stream",
          "text": [
            "[2, 3, 4]\n"
          ],
          "name": "stdout"
        }
      ]
    },
    {
      "cell_type": "code",
      "metadata": {
        "id": "VqdJJ0XsRebt",
        "colab_type": "code",
        "colab": {
          "base_uri": "https://localhost:8080/",
          "height": 51
        },
        "outputId": "ee20d428-f302-4274-f603-8faa88b35163"
      },
      "source": [
        "\"\"\"Write a Python function which takes a character (i.e. a string of length 1) and returns True if it is\n",
        "a vowel, False otherwise.\"\"\"\n",
        "def ischaracter_vowel(a):\n",
        "  if len(a) == 1:\n",
        "    for i in \"aeiou\":\n",
        "      if a == i:\n",
        "        return True\n",
        "    else:\n",
        "      return False\n",
        "  else:\n",
        "    return  \"more than one character\"\n",
        "\n",
        "print(\"The output when we send character a %s\"%ischaracter_vowel('a'))\n",
        "print(\"The output when we send character b %s\"%ischaracter_vowel('b'))"
      ],
      "execution_count": 24,
      "outputs": [
        {
          "output_type": "stream",
          "text": [
            "The output when we send character a True\n",
            "The output when we send character b False\n"
          ],
          "name": "stdout"
        }
      ]
    }
  ]
}